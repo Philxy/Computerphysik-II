{
 "cells": [
  {
   "cell_type": "code",
   "execution_count": null,
   "metadata": {},
   "outputs": [],
   "source": [
    "#a\n",
    "def iterative_fac(n):\n",
    "    result = 1\n",
    "    for i in range(1, n+1):\n",
    "        result *= i\n",
    "    return result\n",
    "\n",
    "\n",
    "def recursive_fac(n):\n",
    "    if n == 1  or n == 0:\n",
    "        return 1\n",
    "    return recursive_fac(n-1)*n\n"
   ]
  },
  {
   "cell_type": "code",
   "execution_count": 121,
   "metadata": {},
   "outputs": [
    {
     "name": "stdout",
     "output_type": "stream",
     "text": [
      "                                  1                                   \n",
      "                                1    1                                \n",
      "                             1    2    1                              \n",
      "                           1    3    3    1                           \n",
      "                        1    4    6    4    1                         \n",
      "                      1    5    10   10   5    1                      \n",
      "                   1    6    15   20   15   6    1                    \n",
      "                 1    7    21   35   35   21   7    1                 \n",
      "              1    8    28   56   70   56   28   8    1               \n",
      "            1    9    36   84  126  126   84   36   9    1            \n",
      "         1    10   45  120  210  252  210  120   45   10   1          \n",
      "       1    11   55  165  330  462  462  330  165   55   11   1       \n",
      "    1    12   66  220  495  792  924  792  495  220   66   12   1     \n",
      "  1    13   78  286  715  1287 1716 1716 1287 715  286   78   13   1  \n"
     ]
    }
   ],
   "source": [
    "#b\n",
    "def pascal(n):\n",
    "    result = []\n",
    "    if n == 1:\n",
    "        result.append(['1'])\n",
    "    if n >= 2:\n",
    "        result.append(['1'])\n",
    "        result.append(['1', '1'])\n",
    "        \n",
    "    previous = [1,1]\n",
    "    new = []\n",
    "    \n",
    "    # Erzeuge Array mit Einträgen des Dreiecks\n",
    "    for i in range(n):\n",
    "        new.append(1)\n",
    "        for j in range(len(previous)-1):\n",
    "            new.append(previous[j]+previous[j+1])\n",
    "        new.append(1)\n",
    "        previous = new\n",
    "        result.append(list(map(str, new)))\n",
    "        new = []\n",
    "    \n",
    "    size = len(max(result[-1], key=len)) # Anzahl Ziffern der größten Zahl \n",
    "    \n",
    "    # print PascalDreieck\n",
    "    for i in range(n):\n",
    "        result_as_strings = map(str, result[i])\n",
    "        s = ''\n",
    "        for a in result_as_strings:\n",
    "            s += a.center(size+1, ' ') \n",
    "        print(s.center(n*size+n, ' '))\n",
    "        s = ''\n",
    "\n",
    "pascal(14)"
   ]
  },
  {
   "cell_type": "code",
   "execution_count": 19,
   "metadata": {},
   "outputs": [
    {
     "name": "stdout",
     "output_type": "stream",
     "text": [
      "--banane--\n"
     ]
    }
   ],
   "source": [
    "s = 'banane'\n",
    "x = s.center(10, '-')\n",
    "print(x)"
   ]
  },
  {
   "cell_type": "code",
   "execution_count": null,
   "metadata": {},
   "outputs": [],
   "source": [
    "#c\n",
    "import itertools as iter\n",
    "\n",
    "\n",
    "# permutations(): findet alle möglichen Permutationen von einem iterable.\n",
    "\n",
    "    # z.B. alle Permutationen der Bruchstaben A,B,C,D \n",
    "for s in iter.permutations('ABCD'):\n",
    "    print(s)\n",
    "   \n",
    "    # z.B. alle Permutationen der Bruchstaben A,B,C,D in 3-er Tupeln. Damit kann \n",
    "    # also auch die Anzahl spezifiziert werden.\n",
    "for s in iter.permutations('ABCD', 3):\n",
    "    print(s)\n",
    "\n",
    "    # z.B. alle Permutationen von 0,1,2 in Zweiertupeln\n",
    "for i in iter.permutations(range(3), 2):\n",
    "    print(i)\n",
    "\n",
    "\n",
    "# combinations(): findet alle sortierten  Anordnungsmöglichkeiten von einem iterable. \n",
    "#   Unterscheidet sich von permutations(), da sortiert wird und mehrfach auftauchende\n",
    "#   elemente ausgeschlossen werden\n",
    "\n",
    "    # z.B. alle sortierten 2er Tupel der Zahlen von 0 bis einschließlich 2:\n",
    "for i in iter.combinations(range(3), 2):\n",
    "    print(i)\n"
   ]
  },
  {
   "cell_type": "code",
   "execution_count": null,
   "metadata": {},
   "outputs": [],
   "source": [
    "#d\n",
    "\n",
    "# i.\n",
    "\n",
    "# gibt rekursiv das n-Glied der Fibonacci Folge zurück\n",
    "def recursive_fib(n):\n",
    "    if n == 1:\n",
    "        return 1\n",
    "    if n == 0:\n",
    "        return 0\n",
    "    return recursive_fib(n-1) + recursive_fib(n-2)\n",
    "\n",
    "# gibt iterativ das n-Glied der Fibonacci Folge zurück\n",
    "def iterative_fib(n):\n",
    "    j, m = 0, 1\n",
    "    for i in range(0,n):\n",
    "        j, m = m, j + m\n",
    "    return j\n",
    "\n",
    "\n",
    "# ii.\n",
    "\n",
    "# Der rekursive Output zeigt, dass mindestens die ersten 28 Folgenglieder übereinstimmen.\n",
    "# Jenseits davon wird die Rechendauer zu groß.\n",
    "\n",
    "# Die untere iterative Implementierung überprüft die Übereinstimmung der ersten n\n",
    "# Gleider. Bis n = 400 stimmen die Glieder in angemessener Zeit überein.\n",
    "n = 400\n",
    "for i in range(n):\n",
    "    sum = 0\n",
    "    for j in range(i+1):\n",
    "        sum += iterative_fib(j)**2\n",
    "\n",
    "    if sum != iterative_fib(i)*iterative_fib(i+1):\n",
    "        print('Die Gleichung versagt ab dem' + str(n) + ' Glied')\n",
    "        break\n",
    "    \n",
    "# iii.\n",
    "N = 600\n",
    "print('Der Grenzwert lautet in angemessener Laufzeit :', iterative_fib(N+1)/iterative_fib(N))\n",
    "\n",
    "# iv.\n",
    "depth = 1000\n",
    "def func(n):\n",
    "    if (n == 0):\n",
    "        return 1\n",
    "    return 1 + 1 / func(n-1)\n",
    "print(func(depth))\n",
    "\n",
    "# ==> Der Vergleich der beiden Grenzwerte liefert für die ersten 14 Nachkommastellen eine Übereinstimmung \n"
   ]
  },
  {
   "cell_type": "code",
   "execution_count": null,
   "metadata": {},
   "outputs": [],
   "source": [
    "#e\n"
   ]
  },
  {
   "cell_type": "code",
   "execution_count": 13,
   "metadata": {},
   "outputs": [
    {
     "data": {
      "image/png": "[encoded data removed]",
      "text/plain": [
       "<Figure size 432x288 with 1 Axes>"
      ]
     },
     "metadata": {
      "needs_background": "light"
     },
     "output_type": "display_data"
    }
   ],
   "source": [
    "#f\n",
    "\n",
    "import string\n",
    "import numpy as np\n",
    "import matplotlib.pyplot as plt\n",
    "\n",
    "f = open(\"beeMovie.txt\", \"r\") # öffne zu untersuchende Datei\n",
    "\n",
    "dict = dict.fromkeys(string.ascii_lowercase, 0) # erzeugt ein dictionary des ganzen Alphabets\n",
    "\n",
    "line = f.readline()\n",
    "while line:\n",
    "    for s in line:\n",
    "        if s.lower().isalpha(): # wenn Buchstabe gefunden, erhöhe Anzahl des Buchstaben im Dictionary\n",
    "            dict[s.lower()] += 1\n",
    "    line = f.readline()\n",
    "f.close()   \n",
    "\n",
    "\n",
    "# Stelle die Anzahlen mit der die einzelnen Buchstaben auftauchen in einem Histiogramm/BarChart dar\n",
    "A = [i for i in dict.values()]\n",
    "x = np.arange(0,26)\n",
    "alphabet = [s for s in string.ascii_uppercase]\n",
    "plt.bar(x, height=A)\n",
    "plt.xticks(x, alphabet)\n",
    "plt.show()"
   ]
  },
  {
   "cell_type": "code",
   "execution_count": null,
   "metadata": {},
   "outputs": [],
   "source": [
    "# g\n",
    "\n",
    "from string import ascii_lowercase\n",
    "\n",
    "input = open(\"beeMovie.txt\", \"r\")       # input Datei\n",
    "output = open(\"outputFile.txt\", \"w\")    # output Datei\n",
    "\n",
    "n = 4   # verschiebt Buchstaben um n\n",
    "\n",
    "alphabet = [i for i in ascii_lowercase] \n",
    "\n",
    "# verschiebe zunächst die Elemente im Alphabet array um n\n",
    "temp = [] \n",
    "for i in range(n):\n",
    "    temp.append(alphabet.pop(0))\n",
    "for t in temp:\n",
    "    alphabet.append(t)\n",
    "\n",
    "\n",
    "# Erzeuge ein Dict das einem Buchstaben den entsprechenden verschobenen Buchstaben zuordent\n",
    "\n",
    "dict = dict.fromkeys(ascii_lowercase, '') # erzeugt ein dictionary des ganzen Alphabets\n",
    "i = 0\n",
    "for A in [j for j in ascii_lowercase]:\n",
    "    dict[A] = alphabet[i]\n",
    "    i += 1\n",
    "\n",
    "# Lese Dateien ein und schreibe verschobene Buchstaben darin hinein \n",
    "line = input.readline()\n",
    "while line:\n",
    "    newLine = '' \n",
    "    for s in line:\n",
    "        if s.lower().isalpha():\n",
    "            newLine += dict[s.lower()]\n",
    "        else:\n",
    "            newLine += s\n",
    "    line = input.readline()\n",
    "    output.write(newLine)\n",
    "input.close()   \n",
    "output.close()\n",
    "\n",
    "# t.b.c.\n",
    "#encrypted = open('outputFile.txt' , 'r')\n",
    "#decrypted = open('decrypted.txt', 'w')"
   ]
  },
  {
   "cell_type": "code",
   "execution_count": 19,
   "metadata": {},
   "outputs": [
    {
     "name": "stdout",
     "output_type": "stream",
     "text": [
      "[1, 2, 3, 4, 5, 7, 11, 13, 17, 19, 23, 29, 31, 37, 41, 43, 47, 53, 59, 61, 67, 71, 73, 79, 83, 89, 97]\n"
     ]
    }
   ],
   "source": [
    "# 1 e\n",
    "import numpy as np\n",
    "\n",
    "# Prüft ob ein integer > 0 eine Primzahl ist mit dem \"Sieb des Eratosthenes\"\n",
    "def isPrime(p):\n",
    "    if p == 1 or p == 2: \n",
    "        return True\n",
    "\n",
    "    upper_limit = int(p/2) + 1 # Oberes Limit an Zahlen die es zu prüfen gilt\n",
    "    checked_primes = np.full(upper_limit, False,  dtype= bool) # boolean array speichert bereits gestrichene Primzahlen \n",
    "    \n",
    "    for i in range(3, upper_limit):\n",
    "        if not checked_primes[i-1]:\n",
    "            if p % i == 0:\n",
    "                return False\n",
    "            else:\n",
    "                for j in range(i-1, upper_limit, i):\n",
    "                    checked_primes[j] = True \n",
    "    return True\n",
    "    \n",
    "  \n",
    "# Gebe Array mit den ersten N Primzahlen aus.\n",
    "N = 100\n",
    "primes = []\n",
    "for i in np.arange(1,N,1):\n",
    "    if isPrime(i):\n",
    "        primes.append(i)\n",
    "print(primes)"
   ]
  },
  {
   "cell_type": "code",
   "execution_count": 106,
   "metadata": {},
   "outputs": [
    {
     "name": "stdout",
     "output_type": "stream",
     "text": [
      "0.014666438834430057\n"
     ]
    }
   ],
   "source": [
    "# 1. i.\n",
    "\n",
    "import numpy as np\n",
    "\n",
    "# Einige Beispielmatrizen\n",
    "A = np.array([[1,2,3],[4,5,6],[7,8,9]])\n",
    "B = np.array([[1,2,3,10],[4,5,6,-5],[7,8,-6,0],[1,1,3,1]])\n",
    "C = np.array([[1,2],[3,4]])\n",
    "I_4 = np.array([[1,0,0,0],[0,1,0,0],[0,0,1,0],[0,0,0,1]]) # 4x4 Einheitsmatrix\n",
    "\n",
    "\n",
    "# Gibt die Untermatrix an der 0 Zeile und j Spalte zurück\n",
    "def minor(M, j):\n",
    "    dim = M[0].size - 1 # Dimension der neuen Matrix\n",
    "    new_Array = np.zeros((dim, dim))\n",
    "    # Die Schleife geht über alle Einträge der Matrix außer der gestrichenen Zeile und Spalte\n",
    "    for i in range(1, dim + 1):\n",
    "        for k in range(j):\n",
    "            new_Array[i-1][k] = M[i][k]\n",
    "        for k in range(j+1, dim + 1):\n",
    "            new_Array[i-1][k-1] = M[i][k]  \n",
    "    return new_Array\n",
    "\n",
    "\n",
    "# Findet die Determinante mit dem Laplacschen Entwicklungssatz einer n x n Matrix bzw. numpy array\n",
    "def det(M):\n",
    "    # gebe im Basis-Fall die Deteminante der 2x2 Matrix aus\n",
    "    if M[0].size == 2:\n",
    "        return M[0][0]*M[1][1] - M[1][0]*M[0][1]\n",
    "    \n",
    "    # Entwickle rekursiv nach der ersten Zeile\n",
    "    determinante = 0\n",
    "    for j in range(M[0].size):\n",
    "        determinante += (-1)**j * M[0][j] * det(minor(M,j))\n",
    "\n",
    "    return determinante\n",
    "\n",
    "# Berechnet die Determinante einer NxN Matrix zufälliger Einträge\n",
    "N = 7\n",
    "print(det(np.random.random((N,N))))\n",
    "\n",
    "# Fazit:\n",
    "# Die Implementierung des  Laplace Algorithmus berechnet die Determinante einer 10x10 Matrix in etwa 33 Sekunden\n",
    "# Die Lauzeit liegt in O(N!) und damit extrem indeffizient. "
   ]
  },
  {
   "cell_type": "code",
   "execution_count": null,
   "metadata": {},
   "outputs": [],
   "source": []
  }
 ],
 "metadata": {
  "interpreter": {
   "hash": "7c98ccfd83d7b36b2dafdad6fe27613e9cbde0f2c8afbb6d4524b864a80622b6"
  },
  "kernelspec": {
   "display_name": "Python 3.8.8 64-bit ('base': conda)",
   "name": "python3"
  },
  "language_info": {
   "codemirror_mode": {
    "name": "ipython",
    "version": 3
   },
   "file_extension": ".py",
   "mimetype": "text/x-python",
   "name": "python",
   "nbconvert_exporter": "python",
   "pygments_lexer": "ipython3",
   "version": "3.8.5"
  },
  "orig_nbformat": 4
 },
 "nbformat": 4,
 "nbformat_minor": 2
}
